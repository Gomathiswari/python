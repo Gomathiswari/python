{
  "nbformat": 4,
  "nbformat_minor": 0,
  "metadata": {
    "colab": {
      "name": "Part1.ipynb",
      "provenance": [],
      "collapsed_sections": [],
      "include_colab_link": true
    },
    "kernelspec": {
      "name": "python3",
      "display_name": "Python 3"
    },
    "language_info": {
      "name": "python"
    }
  },
  "cells": [
    {
      "cell_type": "markdown",
      "metadata": {
        "id": "view-in-github",
        "colab_type": "text"
      },
      "source": [
        "<a href=\"https://colab.research.google.com/github/Gomathiswari/python/blob/main/Part1.ipynb\" target=\"_parent\"><img src=\"https://colab.research.google.com/assets/colab-badge.svg\" alt=\"Open In Colab\"/></a>"
      ]
    },
    {
      "cell_type": "code",
      "execution_count": null,
      "metadata": {
        "colab": {
          "base_uri": "https://localhost:8080/"
        },
        "id": "_F25CdQy4Yf-",
        "outputId": "79165bfc-5d7e-4bcf-a35d-139dc6d213df"
      },
      "outputs": [
        {
          "output_type": "stream",
          "name": "stdout",
          "text": [
            "The sum of 1.5 and 6.3 is 7.8\n"
          ]
        }
      ],
      "source": [
        "num1= 1.5 \n",
        "num2 = 6.3\n",
        "sum = num1 + num2\n",
        "print('The sum of {0} and {1} is {2}'.format(num1,num2,sum))"
      ]
    },
    {
      "cell_type": "code",
      "source": [
        "num1 = input('enter first number: ')\n",
        "num2 = input('enter second number: ')\n",
        "sum = float(num1)+float(num2)\n",
        "print('the sum of {0} and {1} is {2}'.format(num1,num2,sum))"
      ],
      "metadata": {
        "colab": {
          "base_uri": "https://localhost:8080/"
        },
        "id": "1qzPQd80LVGo",
        "outputId": "8b88acdb-6263-4f38-ac35-b0614236f665"
      },
      "execution_count": null,
      "outputs": [
        {
          "output_type": "stream",
          "name": "stdout",
          "text": [
            "enter first number: 5\n",
            "enter second number: 5\n",
            "the sum of 5 and 5 is 10.0\n"
          ]
        }
      ]
    },
    {
      "cell_type": "code",
      "source": [
        "num = 8\n",
        "num_sqrt = num ** 0.5\n",
        "print('the square root of %0.3f is %0.3f'%(num,num_sqrt))"
      ],
      "metadata": {
        "id": "7LBFa69DNg6j",
        "colab": {
          "base_uri": "https://localhost:8080/"
        },
        "outputId": "5817ec04-6cf7-4347-aeb9-7a5ed38379b8"
      },
      "execution_count": null,
      "outputs": [
        {
          "output_type": "stream",
          "name": "stdout",
          "text": [
            "the square root of 8.000 is 2.828\n"
          ]
        }
      ]
    },
    {
      "cell_type": "code",
      "source": [
        "import cmath\n",
        "num = 1+2j\n",
        "num_sqrt = cmath.sqrt(num)\n",
        "print('the square root of {0} is {1:0.3f}+{2:0.3f}j'.format(num,num_sqrt.real,num_sqrt.imag))"
      ],
      "metadata": {
        "colab": {
          "base_uri": "https://localhost:8080/"
        },
        "id": "fJmdba-iPZ_8",
        "outputId": "0fd17217-09c1-42be-b265-80c8a645e996"
      },
      "execution_count": null,
      "outputs": [
        {
          "output_type": "stream",
          "name": "stdout",
          "text": [
            "the square root of (1+2j) is 1.272+0.786j\n"
          ]
        }
      ]
    },
    {
      "cell_type": "code",
      "source": [
        "a = 5\n",
        "b = 6\n",
        "c = 7\n",
        "s = (a+b+c)/2\n",
        "area = (s*(s-a)*(s-b)*(s-c))**0.5\n",
        "print('the area of the triangle is %0.2f' %area)"
      ],
      "metadata": {
        "colab": {
          "base_uri": "https://localhost:8080/"
        },
        "id": "OdAHEfDPQvRV",
        "outputId": "24338c3d-fb31-48df-d86a-9ff7df679c55"
      },
      "execution_count": null,
      "outputs": [
        {
          "output_type": "stream",
          "name": "stdout",
          "text": [
            "the area of the triangle is 14.70\n"
          ]
        }
      ]
    },
    {
      "cell_type": "code",
      "source": [
        "x = 5\n",
        "y = 10\n",
        "temp = x\n",
        "x = y\n",
        "y=temp\n",
        "\n",
        "print('the value of x after swapping:{}'.format(x))\n",
        "print('the value of y after swapping:{}'.format(y))"
      ],
      "metadata": {
        "colab": {
          "base_uri": "https://localhost:8080/"
        },
        "id": "rRmGYl4sRi5a",
        "outputId": "b8091b06-482f-4259-a062-cacfd289827e"
      },
      "execution_count": null,
      "outputs": [
        {
          "output_type": "stream",
          "name": "stdout",
          "text": [
            "the value of x after swapping:10\n",
            "the value of y after swapping:5\n"
          ]
        }
      ]
    },
    {
      "cell_type": "code",
      "source": [
        "website = \"apple.com\"\n",
        "print(website)"
      ],
      "metadata": {
        "colab": {
          "base_uri": "https://localhost:8080/"
        },
        "id": "bCzBd8joSzXt",
        "outputId": "5478f5b1-9451-4e7e-9d0c-0c3b075f23e1"
      },
      "execution_count": null,
      "outputs": [
        {
          "output_type": "stream",
          "name": "stdout",
          "text": [
            "apple.com\n"
          ]
        }
      ]
    },
    {
      "cell_type": "code",
      "source": [
        ""
      ],
      "metadata": {
        "id": "KCTp5ts9Qr55"
      },
      "execution_count": null,
      "outputs": []
    },
    {
      "cell_type": "code",
      "source": [
        "website = \"apple.com\"\n",
        "print(website)\n",
        "website = \"programiz.com\"\n",
        "print(website)\n"
      ],
      "metadata": {
        "id": "O8IDZSGLITN-",
        "colab": {
          "base_uri": "https://localhost:8080/"
        },
        "outputId": "a6dc9433-03ab-4f32-e36b-16a581d26ec6"
      },
      "execution_count": null,
      "outputs": [
        {
          "output_type": "stream",
          "name": "stdout",
          "text": [
            "apple.com\n",
            "programiz.com\n"
          ]
        }
      ]
    },
    {
      "cell_type": "code",
      "source": [
        "a,b,c,=5,3.2,\"hello\"\n",
        "print(a)\n",
        "print(b)\n",
        "print(c)\n",
        "\n"
      ],
      "metadata": {
        "colab": {
          "base_uri": "https://localhost:8080/"
        },
        "id": "B_SQG1GCTnMr",
        "outputId": "5a78a334-7e00-4675-e4e9-42e82527273c"
      },
      "execution_count": null,
      "outputs": [
        {
          "output_type": "stream",
          "name": "stdout",
          "text": [
            "5\n",
            "3.2\n",
            "hello\n"
          ]
        }
      ]
    },
    {
      "cell_type": "code",
      "source": [
        "x=y=z=\"same\"\n",
        "print(x)\n",
        "print(y)\n",
        "print(z)\n",
        "\n"
      ],
      "metadata": {
        "colab": {
          "base_uri": "https://localhost:8080/"
        },
        "id": "t2c_6KbBUWFj",
        "outputId": "f4a75229-5b78-4227-ce5a-8dde6fc45248"
      },
      "execution_count": null,
      "outputs": [
        {
          "output_type": "stream",
          "name": "stdout",
          "text": [
            "same\n",
            "same\n",
            "same\n"
          ]
        }
      ]
    },
    {
      "cell_type": "code",
      "source": [
        "a = 0b1010\n",
        "b = 100\n",
        "c = 0o310 \n",
        "d = 0x12c \n",
        "\n",
        "float_1 = 10.5\n",
        "float_2 = 1.5e2\n",
        "\n",
        "x = 3.14j\n",
        "\n",
        "print(a,b,c,d)\n",
        "print(float_1,float_2)\n",
        "print(x,x.imag,x.real)\n"
      ],
      "metadata": {
        "colab": {
          "base_uri": "https://localhost:8080/"
        },
        "id": "EGwSFa9nUwvI",
        "outputId": "82777fff-fcbf-4012-d40c-1c153591b8e4"
      },
      "execution_count": null,
      "outputs": [
        {
          "output_type": "stream",
          "name": "stdout",
          "text": [
            "10 100 200 300\n",
            "10.5 150.0\n",
            "3.14j 3.14 0.0\n"
          ]
        }
      ]
    },
    {
      "cell_type": "code",
      "source": [
        "string = \"this is python\"\n",
        "char = \"c\"\n",
        "multiline_str = \"\"\"this is a multiline string with more than one line code.\"\"\"\n",
        "unicode = u\"\\u00dcnic\\u00f6de\"\n",
        "raw_str = r\"raw \\n string\"\n",
        "\n",
        "print(string)\n",
        "print(char)\n",
        "print(multiline_str)\n",
        "print(unicode)\n",
        "print(raw_str)\n"
      ],
      "metadata": {
        "id": "OewowXFeZdwF",
        "colab": {
          "base_uri": "https://localhost:8080/"
        },
        "outputId": "dae9320b-83c8-44c7-dd84-0f0a7d3373de"
      },
      "execution_count": null,
      "outputs": [
        {
          "output_type": "stream",
          "name": "stdout",
          "text": [
            "this is python\n",
            "c\n",
            "this is a multiline string with more than one line code.\n",
            "Ünicöde\n",
            "raw \\n string\n"
          ]
        }
      ]
    },
    {
      "cell_type": "code",
      "source": [
        "x = (1 == True)\n",
        "y = (1 == False)\n",
        "a = True  + 4\n",
        "b = False + 10\n",
        "print(\"x is\",x)\n",
        "print(\"y is\",y)\n",
        "print(\"a:\",a)\n",
        "print(\"b:\",b)\n"
      ],
      "metadata": {
        "colab": {
          "base_uri": "https://localhost:8080/"
        },
        "id": "6FTRbMzUu5w-",
        "outputId": "4305f629-efe1-4d70-fc11-3c733e6a994e"
      },
      "execution_count": null,
      "outputs": [
        {
          "output_type": "stream",
          "name": "stdout",
          "text": [
            "x is True\n",
            "y is False\n",
            "a: 5\n",
            "b: 10\n"
          ]
        }
      ]
    },
    {
      "cell_type": "code",
      "source": [
        "drink = \"available\"\n",
        "food = None\n",
        "def menu(x):\n",
        "  if x == drink:\n",
        "    print(drink)\n",
        "  else:\n",
        "    print(food)\n",
        "menu(drink)\n",
        "menu(food)"
      ],
      "metadata": {
        "colab": {
          "base_uri": "https://localhost:8080/"
        },
        "id": "chyjhsXEwHVE",
        "outputId": "95f66368-19df-4227-913c-f0d7061d6ad2"
      },
      "execution_count": null,
      "outputs": [
        {
          "output_type": "stream",
          "name": "stdout",
          "text": [
            "available\n",
            "None\n"
          ]
        }
      ]
    },
    {
      "cell_type": "code",
      "source": [
        "fruits = [\"apple\",\"mango\",\"orange\",]\n",
        "numbers = (1,2,3)\n",
        "alphabets = {'a':'apple','b':'ball','c':'cat'}\n",
        "vowels = {'a','e','i','o','u'}\n",
        "print(fruits)\n",
        "print(numbers)\n",
        "print(alphabets)\n",
        "print(vowels)"
      ],
      "metadata": {
        "id": "2aOcbcgMw93z",
        "colab": {
          "base_uri": "https://localhost:8080/"
        },
        "outputId": "2c95c307-21d1-4480-afa1-b0ee13db2585"
      },
      "execution_count": null,
      "outputs": [
        {
          "output_type": "stream",
          "name": "stdout",
          "text": [
            "['apple', 'mango', 'orange']\n",
            "(1, 2, 3)\n",
            "{'a': 'apple', 'b': 'ball', 'c': 'cat'}\n",
            "{'a', 'u', 'o', 'e', 'i'}\n"
          ]
        }
      ]
    },
    {
      "cell_type": "code",
      "source": [
        "def max_of_two(x,y):\n",
        "  if x > y:\n",
        "    return x\n",
        "  return y\n",
        "def max_of_three(x,y,z):\n",
        "      return max_of_two(x,max_of_two(y,z))\n",
        "print(max_of_three(3, 6, -5)) "
      ],
      "metadata": {
        "colab": {
          "base_uri": "https://localhost:8080/"
        },
        "id": "1mocEEzkzOKu",
        "outputId": "1a06e73d-13d5-4089-ebdb-013b00a08cf4"
      },
      "execution_count": null,
      "outputs": [
        {
          "output_type": "stream",
          "name": "stdout",
          "text": [
            "6\n"
          ]
        }
      ]
    },
    {
      "cell_type": "code",
      "source": [
        "def sum(numbers):\n",
        "    total = 0\n",
        "    for x in numbers:\n",
        "        total += x\n",
        "    return total \n",
        "print(sum((8, 2, 3, 0, 7)))"
      ],
      "metadata": {
        "colab": {
          "base_uri": "https://localhost:8080/"
        },
        "id": "4dO_R1iP1NpT",
        "outputId": "25b4330f-2671-4708-b4d2-0c89d9984be0"
      },
      "execution_count": null,
      "outputs": [
        {
          "output_type": "stream",
          "name": "stdout",
          "text": [
            "20\n"
          ]
        }
      ]
    },
    {
      "cell_type": "code",
      "source": [
        "def multiply(numbers):\n",
        "    total = 1 \n",
        "    for x in numbers:\n",
        "        total *= x\n",
        "    return total \n",
        "print(multiply((8, 2, 3, -1, 7)))"
      ],
      "metadata": {
        "id": "-iZiAbfP3NmX",
        "colab": {
          "base_uri": "https://localhost:8080/"
        },
        "outputId": "d2ebde38-cd2d-4402-cb7a-978ce4e7e287"
      },
      "execution_count": null,
      "outputs": [
        {
          "output_type": "stream",
          "name": "stdout",
          "text": [
            "-336\n"
          ]
        }
      ]
    },
    {
      "cell_type": "code",
      "source": [
        "def string_reverse(str1):\n",
        "\n",
        "    rstr1 = ''\n",
        "    index = len(str1)\n",
        "    while index > 0:\n",
        "        rstr1 += str1[ index - 1 ]\n",
        "        index = index -1 \n",
        "    return rstr1\n",
        "print(string_reverse('1234abcd'))"
      ],
      "metadata": {
        "colab": {
          "base_uri": "https://localhost:8080/"
        },
        "id": "Yg87nz7p5R0n",
        "outputId": "7e6e2afb-0b55-42ee-9a9b-07dfce140288"
      },
      "execution_count": null,
      "outputs": [
        {
          "output_type": "stream",
          "name": "stdout",
          "text": [
            "dcba4321\n"
          ]
        }
      ]
    },
    {
      "cell_type": "code",
      "source": [
        "def factorial(n):\n",
        "    if n == 0:\n",
        "        return 1\n",
        "    else:\n",
        "       return n * factorial(n-1)\n",
        "n=int(input(\"input a number to computer the factorial :\"))\n",
        "print(factorial(n))"
      ],
      "metadata": {
        "colab": {
          "base_uri": "https://localhost:8080/"
        },
        "id": "lLLTGoUr6PO8",
        "outputId": "fde2edf7-12af-4102-899f-da9ca57ba6bd"
      },
      "execution_count": null,
      "outputs": [
        {
          "output_type": "stream",
          "name": "stdout",
          "text": [
            "input a number to computer the factorial :4\n",
            "24\n"
          ]
        }
      ]
    },
    {
      "cell_type": "code",
      "source": [
        "def test_range(n):\n",
        "    if n in range(3,9):\n",
        "         print(\"%s is in the range\"%str(n))\n",
        "    else :\n",
        "         print(\"the number is outside the given range.\")\n",
        "test_range(5)"
      ],
      "metadata": {
        "colab": {
          "base_uri": "https://localhost:8080/"
        },
        "id": "rGi3Cpqj7nWY",
        "outputId": "5ee73b28-a23b-448b-f874-331e8dd2765b"
      },
      "execution_count": null,
      "outputs": [
        {
          "output_type": "stream",
          "name": "stdout",
          "text": [
            "5 is in the range\n"
          ]
        }
      ]
    },
    {
      "cell_type": "code",
      "source": [
        "def string_test(s):\n",
        "    d={\"UPPER_CASE\":0, \"LOWER_CASE\":0}\n",
        "    for c in s:\n",
        "        if c.isupper():\n",
        "           d[\"UPPER_CASE\"]+=1\n",
        "        elif c.islower():\n",
        "          d[\"LOWER_CASE\"]+=1\n",
        "        else:\n",
        "           pass\n",
        "    print(\"original string:,s\")\n",
        "    print(\"no.of upper case characters : \",d[\"UPPER_CASE\"])\n",
        "    print(\"no.of lower case characters : \",d[\"LOWER_CASE\"])\n",
        "string_test('the quick brown fox')\n"
      ],
      "metadata": {
        "id": "Yc-3G3ot8kN1",
        "colab": {
          "base_uri": "https://localhost:8080/"
        },
        "outputId": "5d023d83-d5dd-4004-b534-48b02dbe55e9"
      },
      "execution_count": null,
      "outputs": [
        {
          "output_type": "stream",
          "name": "stdout",
          "text": [
            "original string:,s\n",
            "no.of upper case characters :  0\n",
            "no.of lower case characters :  16\n"
          ]
        }
      ]
    },
    {
      "cell_type": "code",
      "source": [
        ""
      ],
      "metadata": {
        "id": "b197CnuBtzFR"
      },
      "execution_count": null,
      "outputs": []
    }
  ]
}