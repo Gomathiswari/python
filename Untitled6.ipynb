{
  "nbformat": 4,
  "nbformat_minor": 0,
  "metadata": {
    "colab": {
      "name": "Untitled6.ipynb",
      "provenance": [],
      "authorship_tag": "ABX9TyN2zKcS8wdizzpSUMtQXXCC",
      "include_colab_link": true
    },
    "kernelspec": {
      "name": "python3",
      "display_name": "Python 3"
    },
    "language_info": {
      "name": "python"
    }
  },
  "cells": [
    {
      "cell_type": "markdown",
      "metadata": {
        "id": "view-in-github",
        "colab_type": "text"
      },
      "source": [
        "<a href=\"https://colab.research.google.com/github/Gomathiswari/python/blob/main/Untitled6.ipynb\" target=\"_parent\"><img src=\"https://colab.research.google.com/assets/colab-badge.svg\" alt=\"Open In Colab\"/></a>"
      ]
    },
    {
      "cell_type": "code",
      "execution_count": 39,
      "metadata": {
        "id": "hsU6I4XGSR0j"
      },
      "outputs": [],
      "source": [
        "def printme(str):\n",
        "  \"this prints a passed string into this function\"\n",
        "  print (str)\n",
        "  return\n"
      ]
    },
    {
      "cell_type": "code",
      "source": [
        "def printme(str):\n",
        "  \"This prints a passed string into this function\"\n",
        "  print (str)\n",
        "  return;\n",
        "  printme(\"I'm first call to user defined function\")\n",
        "  printme(\"again second call to the same function\")\n"
      ],
      "metadata": {
        "id": "TiuegXLfTbeE"
      },
      "execution_count": 19,
      "outputs": []
    },
    {
      "cell_type": "code",
      "source": [
        "def changeme( mylist ):\n",
        "\n",
        "  \"this change a passed list into this function\"\n",
        "  mylist.append([1,2,3,4]);\n",
        "  print(\"value inside the function:\",mylist )\n",
        "  return \n",
        "\n",
        "mylist = [10,20,30];\n",
        "changeme(mylist);\n",
        "print(\"value outside the function : \",mylist)"
      ],
      "metadata": {
        "colab": {
          "base_uri": "https://localhost:8080/"
        },
        "id": "i2x4qwEFVds7",
        "outputId": "99553a07-cd22-4cf2-c10b-d500248135bc"
      },
      "execution_count": 34,
      "outputs": [
        {
          "output_type": "stream",
          "name": "stdout",
          "text": [
            "value inside the function: [10, 20, 30, [1, 2, 3, 4]]\n",
            "value outside the function :  [10, 20, 30, [1, 2, 3, 4]]\n"
          ]
        }
      ]
    },
    {
      "cell_type": "code",
      "source": [
        "def changeme( mylist ):\n",
        "  \"this change a passed list into funcion\"\n",
        "  mylist = [1,2,3,4];\n",
        "  print(\"value inside the function: \",mylist)\n",
        "  return\n",
        "\n",
        "\n",
        "mylist = [10,20,30];\n",
        "changeme( mylist );\n",
        "print(\"value outside the function: \",mylist)\n"
      ],
      "metadata": {
        "colab": {
          "base_uri": "https://localhost:8080/"
        },
        "id": "7ZtPjqHuYUIq",
        "outputId": "ef07af56-4451-4655-8b19-c4b4abfbacbe"
      },
      "execution_count": 41,
      "outputs": [
        {
          "output_type": "stream",
          "name": "stdout",
          "text": [
            "value inside the function:  [1, 2, 3, 4]\n",
            "value outside the function:  [10, 20, 30]\n"
          ]
        }
      ]
    },
    {
      "cell_type": "code",
      "source": [
        "def printme( str ):\n",
        "  \"this print a passed string into this function\"\n",
        "  print (str)\n",
        "  return;\n",
        "printme()"
      ],
      "metadata": {
        "colab": {
          "base_uri": "https://localhost:8080/",
          "height": 200
        },
        "id": "bcMRj8VoZdxs",
        "outputId": "6d95e342-016f-44bd-edf2-9f9b8e109273"
      },
      "execution_count": 44,
      "outputs": [
        {
          "output_type": "error",
          "ename": "TypeError",
          "evalue": "ignored",
          "traceback": [
            "\u001b[0;31m---------------------------------------------------------------------------\u001b[0m",
            "\u001b[0;31mTypeError\u001b[0m                                 Traceback (most recent call last)",
            "\u001b[0;32m<ipython-input-44-ed391240c4aa>\u001b[0m in \u001b[0;36m<module>\u001b[0;34m()\u001b[0m\n\u001b[1;32m      3\u001b[0m   \u001b[0mprint\u001b[0m \u001b[0;34m(\u001b[0m\u001b[0mstr\u001b[0m\u001b[0;34m)\u001b[0m\u001b[0;34m\u001b[0m\u001b[0;34m\u001b[0m\u001b[0m\n\u001b[1;32m      4\u001b[0m   \u001b[0;32mreturn\u001b[0m\u001b[0;34m;\u001b[0m\u001b[0;34m\u001b[0m\u001b[0;34m\u001b[0m\u001b[0m\n\u001b[0;32m----> 5\u001b[0;31m \u001b[0mprintme\u001b[0m\u001b[0;34m(\u001b[0m\u001b[0;34m)\u001b[0m\u001b[0;34m\u001b[0m\u001b[0;34m\u001b[0m\u001b[0m\n\u001b[0m",
            "\u001b[0;31mTypeError\u001b[0m: printme() missing 1 required positional argument: 'str'"
          ]
        }
      ]
    },
    {
      "cell_type": "code",
      "source": [
        "def printme(str):\n",
        "  \"this print a passed string into this function\"\n",
        "  print (str)\n",
        "  return;\n",
        "printme(str = \"my string\")"
      ],
      "metadata": {
        "colab": {
          "base_uri": "https://localhost:8080/"
        },
        "id": "29naK7vpaSsz",
        "outputId": "214025c0-99f5-4439-c8fa-b6e11d14fb55"
      },
      "execution_count": 46,
      "outputs": [
        {
          "output_type": "stream",
          "name": "stdout",
          "text": [
            "my string\n"
          ]
        }
      ]
    },
    {
      "cell_type": "code",
      "source": [
        "def printinfo(name,age):\n",
        "  \"this print a passed info into this function\"\n",
        "  print(\"name\",name)\n",
        "  print(\"age\",age)\n",
        "  return;\n",
        "\n",
        "printinfo(age=50,name=\"miki\")"
      ],
      "metadata": {
        "colab": {
          "base_uri": "https://localhost:8080/"
        },
        "id": "IFdq_RJcbAp6",
        "outputId": "47841a8f-8705-4b89-fabc-62f20bccab7c"
      },
      "execution_count": 50,
      "outputs": [
        {
          "output_type": "stream",
          "name": "stdout",
          "text": [
            "name miki\n",
            "age 50\n"
          ]
        }
      ]
    },
    {
      "cell_type": "code",
      "source": [
        "def printinfo( name,age = 35):\n",
        "  \"this print a passed info this function\"\n",
        "  print(\"name:\",name)\n",
        "  print(\"age:\",age)\n",
        "  return;\n",
        "\n",
        "printinfo(age=50,name=\"miki\")\n",
        "printinfo(name=\"miki\")"
      ],
      "metadata": {
        "colab": {
          "base_uri": "https://localhost:8080/"
        },
        "id": "pWjbNmsmb22D",
        "outputId": "7772688f-5299-48ce-9569-68dda099310b"
      },
      "execution_count": 51,
      "outputs": [
        {
          "output_type": "stream",
          "name": "stdout",
          "text": [
            "name: miki\n",
            "age: 50\n",
            "name: miki\n",
            "age: 35\n"
          ]
        }
      ]
    },
    {
      "cell_type": "code",
      "source": [
        "def printinfo(arg1,*vartuple):\n",
        "  \"this print a variablepassed arguments\"\n",
        "  print (\"output is :\")\n",
        "  print (arg1)\n",
        "  for var in vartuple:\n",
        "    print (var)\n",
        "  return;\n",
        "\n",
        "printinfo(10)\n",
        "printinfo(70,60,50)"
      ],
      "metadata": {
        "colab": {
          "base_uri": "https://localhost:8080/"
        },
        "id": "oFxNFeIecjjT",
        "outputId": "583eaff9-a5c5-40ef-c076-d720a9b9894d"
      },
      "execution_count": 53,
      "outputs": [
        {
          "output_type": "stream",
          "name": "stdout",
          "text": [
            "output is :\n",
            "10\n",
            "output is :\n",
            "70\n",
            "60\n",
            "50\n"
          ]
        }
      ]
    },
    {
      "cell_type": "code",
      "source": [
        "total = 0;\n",
        "def sum(arg1,arg2):\n",
        "  total=arg1+arg2;\n",
        "  print(\"inside the function local total :\",total )\n",
        "  return total;\n",
        "\n",
        "sum(10,20)\n",
        "print(\"outside the function global total :\",total)"
      ],
      "metadata": {
        "colab": {
          "base_uri": "https://localhost:8080/"
        },
        "id": "D3cDPm_ndwlj",
        "outputId": "9cc1cb66-4c47-45a1-d8ec-6a2e06642d87"
      },
      "execution_count": 55,
      "outputs": [
        {
          "output_type": "stream",
          "name": "stdout",
          "text": [
            "inside the function local total : 30\n",
            "outside the function global total : 0\n"
          ]
        }
      ]
    },
    {
      "cell_type": "code",
      "source": [
        "from math import sqrt \n",
        "max_value = eval(input('display prime up to what value?'))\n",
        "value=2\n",
        "\n",
        "while value <= max_value:\n",
        "  is_prime = True\n",
        "  trial_factor = 2\n",
        "  root = sqrt(value)\n",
        "  while trial_factor <= root:\n",
        "    if value % trial_factor == 0:\n",
        "      is_prime = False;\n",
        "      break\n",
        "    trial_factor += 1\n",
        "  if is_prime:\n",
        "    print(value,end='')\n",
        "  value +=1\n",
        "print()"
      ],
      "metadata": {
        "colab": {
          "base_uri": "https://localhost:8080/"
        },
        "id": "2wp8LuQ7eezs",
        "outputId": "4b45b6de-4b36-4d5d-b7f2-ca94258b2fb7"
      },
      "execution_count": 61,
      "outputs": [
        {
          "output_type": "stream",
          "name": "stdout",
          "text": [
            "display prime up to what value?50\n",
            "23571113171923293137414347\n"
          ]
        }
      ]
    },
    {
      "cell_type": "code",
      "source": [
        "from time import clock\n",
        "\n",
        "print(\"enter your name:\",end=\"\")\n",
        "start_time = clock()\n",
        "name = input()\n",
        "elapsed = clock()-start_time\n",
        "print(name,\"it took you\",elapsed,\"second to respond\")"
      ],
      "metadata": {
        "colab": {
          "base_uri": "https://localhost:8080/"
        },
        "id": "ofUEWDt9hM_D",
        "outputId": "9396d904-dde9-4d6b-ff9c-61c08fe7f1ad"
      },
      "execution_count": 62,
      "outputs": [
        {
          "output_type": "stream",
          "name": "stderr",
          "text": [
            "/usr/local/lib/python3.7/dist-packages/ipykernel_launcher.py:4: DeprecationWarning: time.clock has been deprecated in Python 3.3 and will be removed from Python 3.8: use time.perf_counter or time.process_time instead\n",
            "  after removing the cwd from sys.path.\n"
          ]
        },
        {
          "output_type": "stream",
          "name": "stdout",
          "text": [
            "enter your name:gomi\n",
            "gomi it took you 0.06910399999999939 second to respond\n"
          ]
        },
        {
          "output_type": "stream",
          "name": "stderr",
          "text": [
            "/usr/local/lib/python3.7/dist-packages/ipykernel_launcher.py:6: DeprecationWarning: time.clock has been deprecated in Python 3.3 and will be removed from Python 3.8: use time.perf_counter or time.process_time instead\n",
            "  \n"
          ]
        }
      ]
    },
    {
      "cell_type": "code",
      "source": [
        "from time import clock \n",
        "\n",
        "max_value = 10000\n",
        "count = 0\n",
        "start_time = clock ()\n",
        "for value in range(2,max_value+1):\n",
        "  is_prime=True\n",
        "  for trial_factor in range(2,value):\n",
        "    if value % trial_factor == 0:\n",
        "        is_prime = False\n",
        "        break \n",
        "  if is_prime:\n",
        "    count += 1\n",
        "print()\n",
        "elapsed = clock() - start_time\n",
        "print(\"count:\",count,\" Elapsed time:\",elapsed,\"sec\")\n"
      ],
      "metadata": {
        "colab": {
          "base_uri": "https://localhost:8080/"
        },
        "id": "NEjDubcwiKWm",
        "outputId": "34605dfc-516a-464c-d50c-693118d72069"
      },
      "execution_count": 66,
      "outputs": [
        {
          "output_type": "stream",
          "name": "stderr",
          "text": [
            "/usr/local/lib/python3.7/dist-packages/ipykernel_launcher.py:5: DeprecationWarning: time.clock has been deprecated in Python 3.3 and will be removed from Python 3.8: use time.perf_counter or time.process_time instead\n",
            "  \"\"\"\n"
          ]
        },
        {
          "output_type": "stream",
          "name": "stdout",
          "text": [
            "\n",
            "count: 1229  Elapsed time: 0.7996850000000038 sec\n"
          ]
        },
        {
          "output_type": "stream",
          "name": "stderr",
          "text": [
            "/usr/local/lib/python3.7/dist-packages/ipykernel_launcher.py:15: DeprecationWarning: time.clock has been deprecated in Python 3.3 and will be removed from Python 3.8: use time.perf_counter or time.process_time instead\n",
            "  from ipykernel import kernelapp as app\n"
          ]
        }
      ]
    },
    {
      "cell_type": "code",
      "source": [
        "from time import sleep\n",
        "for count in range(10,-1,-1):\n",
        "    print(count)\n",
        "    sleep(1)"
      ],
      "metadata": {
        "colab": {
          "base_uri": "https://localhost:8080/"
        },
        "id": "KVza3amJkkkE",
        "outputId": "aa178dbc-57dd-4edc-942b-ff13401a478c"
      },
      "execution_count": 67,
      "outputs": [
        {
          "output_type": "stream",
          "name": "stdout",
          "text": [
            "10\n",
            "9\n",
            "8\n",
            "7\n",
            "6\n",
            "5\n",
            "4\n",
            "3\n",
            "2\n",
            "1\n",
            "0\n"
          ]
        }
      ]
    },
    {
      "cell_type": "code",
      "source": [
        "from random import randrange,seed\n",
        "\n",
        "seed(23)\n",
        "for i in range(0,100):\n",
        "    print(randrange(1,1000),end='')\n",
        "print()"
      ],
      "metadata": {
        "colab": {
          "base_uri": "https://localhost:8080/"
        },
        "id": "1MW5wVrwk7qa",
        "outputId": "f6dc252c-b356-40da-b458-599c486e366a"
      },
      "execution_count": 68,
      "outputs": [
        {
          "output_type": "stream",
          "name": "stdout",
          "text": [
            "9487999722979148508618607315434389543367134744197274456152276364669242610988728511432215256437524423687905921180237604378674177636222995753372580779881378992586289677999322587888344861827364956058114596926581681878191835473326908365332015971188510143740582283963587288841605339112379922296\n"
          ]
        }
      ]
    },
    {
      "cell_type": "code",
      "source": [
        "from random import randrange \n",
        "for i in range(0, 3):\n",
        "    value = randrange(1, 6)\n",
        "    print(\"+-------+\")\n",
        "    if value == 1:\n",
        "        print(\"|       |\")\n",
        "        print(\"|   *   |\")\n",
        "        print(\"|       |\")\n",
        "    elif value == 2:\n",
        "        print(\"|*      |\")\n",
        "        print(\"|       |\")\n",
        "        print(\"|     * |\")\n",
        "    elif value == 3:\n",
        "        print(\"|     * |\")\n",
        "        print(\"|   *   |\")\n",
        "        print(\"| *     |\")\n",
        "    elif value == 4:\n",
        "        print(\"| *   * |\")\n",
        "        print(\"|       |\")\n",
        "        print(\"| *   * |\")\n",
        "    elif value == 5:\n",
        "        print(\"| *   * |\")\n",
        "        print(\"|   *   |\")\n",
        "        print(\"| *   * |\")\n",
        "    "
      ],
      "metadata": {
        "colab": {
          "base_uri": "https://localhost:8080/"
        },
        "id": "GArVB-e1lf2V",
        "outputId": "dd139c0b-d74c-4f83-c2ae-d35a642eed64"
      },
      "execution_count": 73,
      "outputs": [
        {
          "output_type": "stream",
          "name": "stdout",
          "text": [
            "+-------+\n",
            "| *   * |\n",
            "|   *   |\n",
            "| *   * |\n",
            "+-------+\n",
            "|*      |\n",
            "|       |\n",
            "|     * |\n",
            "+-------+\n",
            "|     * |\n",
            "|   *   |\n",
            "| *     |\n"
          ]
        }
      ]
    },
    {
      "cell_type": "code",
      "source": [
        "def increment(x):\n",
        "  print(\"beginning execution of increment, x =\",x)\n",
        "  x += 1\n",
        "  print(\"ending execution of increment,x=\",x)\n",
        "\n",
        "def main():\n",
        "    x = 5 \n",
        "    print(\"before increment,x =\",x)\n",
        "    increment(x)\n",
        "    print(\"after increment,x =\",x)\n",
        "main()\n"
      ],
      "metadata": {
        "colab": {
          "base_uri": "https://localhost:8080/"
        },
        "id": "TUzKrWGRrLA2",
        "outputId": "f64cdf6c-12d3-46f5-be06-0340e60c901b"
      },
      "execution_count": 74,
      "outputs": [
        {
          "output_type": "stream",
          "name": "stdout",
          "text": [
            "before increment,x = 5\n",
            "beginning execution of increment, x = 5\n",
            "ending execution of increment,x= 6\n",
            "after increment,x = 5\n"
          ]
        }
      ]
    },
    {
      "cell_type": "code",
      "source": [
        "def factorial (n):\n",
        "    if n == 0:\n",
        "        return 1\n",
        "    else:\n",
        "        return n * factorial(n-1)\n",
        "def main():\n",
        "    print(\"0!= \", factorial(0))\n",
        "    print(\"1!= \",factorial(1))\n",
        "    print(\"6!= \",factorial(6))\n",
        "    print(\"10!=\",factorial(10))\n",
        "main()"
      ],
      "metadata": {
        "colab": {
          "base_uri": "https://localhost:8080/"
        },
        "id": "OhR5fJE4t1Qt",
        "outputId": "80202cd1-afd7-4945-9093-4937f8faed81"
      },
      "execution_count": 76,
      "outputs": [
        {
          "output_type": "stream",
          "name": "stdout",
          "text": [
            "0!=  1\n",
            "1!=  1\n",
            "6!=  720\n",
            "10!= 3628800\n"
          ]
        }
      ]
    }
  ]
}