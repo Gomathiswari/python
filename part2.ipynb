{
  "nbformat": 4,
  "nbformat_minor": 0,
  "metadata": {
    "colab": {
      "name": "part2.ipynb",
      "provenance": [],
      "collapsed_sections": [],
      "include_colab_link": true
    },
    "kernelspec": {
      "name": "python3",
      "display_name": "Python 3"
    },
    "language_info": {
      "name": "python"
    }
  },
  "cells": [
    {
      "cell_type": "markdown",
      "metadata": {
        "id": "view-in-github",
        "colab_type": "text"
      },
      "source": [
        "<a href=\"https://colab.research.google.com/github/Gomathiswari/python/blob/main/part2.ipynb\" target=\"_parent\"><img src=\"https://colab.research.google.com/assets/colab-badge.svg\" alt=\"Open In Colab\"/></a>"
      ]
    },
    {
      "cell_type": "code",
      "execution_count": null,
      "metadata": {
        "id": "S4h-PkgU_PHL",
        "colab": {
          "base_uri": "https://localhost:8080/"
        },
        "outputId": "8436c3cc-66fe-467b-fde2-7c583374f5c1"
      },
      "outputs": [
        {
          "output_type": "stream",
          "name": "stdout",
          "text": [
            "choice 1:add,2:sub,3:div,4:mul,5:quit\n",
            "enter the choice of operation :1\n",
            "you have chosen addition option :\n",
            "enter the value for A4\n",
            "enter the value for B5\n",
            "the result 4 + 5 = 9\n"
          ]
        }
      ],
      "source": [
        "print(\"choice 1:add,2:sub,3:div,4:mul,5:quit\")\n",
        "n1 = input(\"enter the choice of operation :\")\n",
        "n = int(n1)\n",
        "if (n == 1):\n",
        "   print (\"you have chosen addition option :\")\n",
        "   a1 = input(\"enter the value for A\")\n",
        "   b1 = input(\"enter the value for B\")\n",
        "   a = int(a1)\n",
        "   b = int(b1)\n",
        "   c = a + b \n",
        "   print (\"the result\",a,\"+\",b,\"=\",c)\n",
        "elif (n == 2):\n",
        "  print(\"you have chosen subtraction option :\")\n",
        "  a1=input(\"enter the value for A:\")\n",
        "  b1=input(\"enter the value for B:\")\n",
        "  a=int(a1)\n",
        "  b=int(b1)\n",
        "  c=a-b\n",
        "  print(\"the result\",a,\"-\",b,\"=\",c)\n",
        "elif(n==3):\n",
        "  print(\"you have chosen division option:\")\n",
        "  a1=input(\"enter the value for A:\")\n",
        "  b1=input(\"enter the value for B:\")\n",
        "  a=input(a1)\n",
        "  b=input(b1)\n",
        "  c=a/b \n",
        "elif(n==4):\n",
        "  print(\"you have chosen multiplication option:\")\n",
        "  a1=input(\"enter the value for A:\")\n",
        "  b1=input(\"enter the value for B:\")\n",
        "  a=int(a1)\n",
        "  b=int(b1)\n",
        "  c=a*b\n",
        "  print(\"the result\",a,\"*\",b,\"=\",c)\n",
        "elif(n==5):\n",
        "  print(\"you have given a wrong :\",n)\n",
        "  exit()"
      ]
    },
    {
      "cell_type": "code",
      "source": [
        ""
      ],
      "metadata": {
        "id": "Fs26ef24I78I"
      },
      "execution_count": null,
      "outputs": []
    },
    {
      "cell_type": "code",
      "source": [
        "x=10\n",
        "x+=1\n",
        "print(x)\n"
      ],
      "metadata": {
        "colab": {
          "base_uri": "https://localhost:8080/"
        },
        "id": "cFK0xMkdSCmC",
        "outputId": "ff8217de-ed80-4389-cd28-feec1331e52f"
      },
      "execution_count": null,
      "outputs": [
        {
          "output_type": "stream",
          "name": "stdout",
          "text": [
            "11\n"
          ]
        }
      ]
    },
    {
      "cell_type": "code",
      "source": [
        "x=10\n",
        "x-=1\n",
        "print(x)"
      ],
      "metadata": {
        "colab": {
          "base_uri": "https://localhost:8080/"
        },
        "id": "5WokAoCWU2-q",
        "outputId": "8cef3d7e-0c9b-47e7-d660-7bc31e2d9b4e"
      },
      "execution_count": null,
      "outputs": [
        {
          "output_type": "stream",
          "name": "stdout",
          "text": [
            "9\n"
          ]
        }
      ]
    },
    {
      "cell_type": "code",
      "source": [
        "x=5\n",
        "x*=5 \n",
        "print(x)"
      ],
      "metadata": {
        "colab": {
          "base_uri": "https://localhost:8080/"
        },
        "id": "44-svct-X9gz",
        "outputId": "53e92ec0-a35b-4fa3-f681-d6a337834062"
      },
      "execution_count": null,
      "outputs": [
        {
          "output_type": "stream",
          "name": "stdout",
          "text": [
            "25\n"
          ]
        }
      ]
    },
    {
      "cell_type": "code",
      "source": [
        "print(\"Fibonacci Series\")\n",
        "n1=input(\"Enter the number: \")\n",
        "n=int(n1)\n",
        "if(n>0):\n",
        "  f=0\n",
        "  s=1\n",
        "  i=0\n",
        "  next=0\n",
        "  while(1):\n",
        "    print(\"\\n\\n*******************************************\")\n",
        "    for i in range(n+1):\n",
        "      if(i<=1):\n",
        "        print(i)\n",
        "      else:\n",
        "        next=f+s\n",
        "        f=s\n",
        "        s=next\n",
        "        print(next)\n",
        "    i=i+1\n",
        "    break\n",
        "else:\n",
        "  print(\"you have entered wrong input\",n)\n",
        "  exit()"
      ],
      "metadata": {
        "colab": {
          "base_uri": "https://localhost:8080/"
        },
        "id": "8IISq4kYYImH",
        "outputId": "830470d6-5146-465f-e14d-cf9eaf5822a7"
      },
      "execution_count": null,
      "outputs": [
        {
          "output_type": "stream",
          "name": "stdout",
          "text": [
            "Fibonacci Series\n",
            "Enter the number: 7\n",
            "\n",
            "\n",
            "*******************************************\n",
            "0\n",
            "1\n",
            "1\n",
            "2\n",
            "3\n",
            "5\n",
            "8\n",
            "13\n"
          ]
        }
      ]
    },
    {
      "cell_type": "code",
      "source": [
        "value1=eval(input(\"Enter the first number: \"))\n",
        "value2=eval(input(\"Enter the second number: \"))\n",
        "sum=value1+value2\n",
        "print(value1,'+',value2,'=',sum)"
      ],
      "metadata": {
        "colab": {
          "base_uri": "https://localhost:8080/"
        },
        "id": "2Nbk_wbvYQA-",
        "outputId": "02f5b8ef-4909-445a-c0e5-f89283e89d29"
      },
      "execution_count": null,
      "outputs": [
        {
          "output_type": "stream",
          "name": "stdout",
          "text": [
            "Enter the first number: 5\n",
            "Enter the second number: 8\n",
            "5 + 8 = 13\n"
          ]
        }
      ]
    },
    {
      "cell_type": "code",
      "source": [
        "x=30\n",
        "y=24\n",
        "print('x+y=',x+y)\n",
        "print('x-y=',x-y)\n",
        "print('x*y=',x*y)\n",
        "print('x/y=',x/y)\n",
        "print('x//y=',x//y)\n",
        "print('x**y=',x**y)"
      ],
      "metadata": {
        "colab": {
          "base_uri": "https://localhost:8080/"
        },
        "id": "11nJj_e1YYCo",
        "outputId": "fd5d626f-e323-4d5f-c1cf-0bbbcfb70a18"
      },
      "execution_count": null,
      "outputs": [
        {
          "output_type": "stream",
          "name": "stdout",
          "text": [
            "x+y= 54\n",
            "x-y= 6\n",
            "x*y= 720\n",
            "x/y= 1.25\n",
            "x//y= 1\n",
            "x**y= 282429536481000000000000000000000000\n"
          ]
        }
      ]
    },
    {
      "cell_type": "code",
      "source": [
        "x=10\n",
        "y=5\n",
        "print(\"x > y is\",x>y)\n",
        "print(\"x < y is\",x<y)\n",
        "print(\"x == y is\",x==y)\n",
        "print(\"x != y is\",x!=y)\n",
        "print(\"x >= y is\",x>=y)\n",
        "print(\"x <= y is\",x<=y)"
      ],
      "metadata": {
        "colab": {
          "base_uri": "https://localhost:8080/"
        },
        "id": "uxlr5KZxYaF_",
        "outputId": "8bbcd413-90b5-4e82-d35d-8398d6f2b20a"
      },
      "execution_count": null,
      "outputs": [
        {
          "output_type": "stream",
          "name": "stdout",
          "text": [
            "x > y is True\n",
            "x < y is False\n",
            "x == y is False\n",
            "x != y is True\n",
            "x >= y is True\n",
            "x <= y is False\n"
          ]
        }
      ]
    },
    {
      "cell_type": "code",
      "source": [
        "x=True\n",
        "y=False\n",
        "print(\"x and y is\", x and y)\n",
        "print(\"x or y is\", x or y)\n",
        "print(\"not x is\",  not x)"
      ],
      "metadata": {
        "colab": {
          "base_uri": "https://localhost:8080/"
        },
        "id": "uPm4hndvYaOW",
        "outputId": "86835475-cf54-4774-ec72-0be7761cac8f"
      },
      "execution_count": null,
      "outputs": [
        {
          "output_type": "stream",
          "name": "stdout",
          "text": [
            "x and y is False\n",
            "x or y is True\n",
            "not x is False\n"
          ]
        }
      ]
    },
    {
      "cell_type": "code",
      "source": [
        "x1=5\n",
        "y1=5\n",
        "x2='Hello'\n",
        "y2='Hello'\n",
        "x3=[1,2,3]\n",
        "y3=[1,2,3]\n",
        "print(x1 is not y1)\n",
        "print(x2 is y2)\n",
        "print(x3 is not y3)"
      ],
      "metadata": {
        "colab": {
          "base_uri": "https://localhost:8080/"
        },
        "id": "Y7e9R0C5YaVf",
        "outputId": "e8bf56ec-c913-45e7-a090-39e975514a22"
      },
      "execution_count": null,
      "outputs": [
        {
          "output_type": "stream",
          "name": "stdout",
          "text": [
            "False\n",
            "True\n",
            "True\n"
          ]
        }
      ]
    },
    {
      "cell_type": "code",
      "source": [
        "#membership operators\n",
        "x='Hello World'\n",
        "y={1:'a',2:'b'}\n",
        "print('E' in x)\n",
        "print(\"hello\" not in x)\n",
        "print(2 in y)\n",
        "print('a' in y)"
      ],
      "metadata": {
        "colab": {
          "base_uri": "https://localhost:8080/"
        },
        "id": "c6BWEyZwYp1P",
        "outputId": "f7cfd635-3a90-4a70-faad-63463c1c3ab1"
      },
      "execution_count": null,
      "outputs": [
        {
          "output_type": "stream",
          "name": "stdout",
          "text": [
            "False\n",
            "True\n",
            "True\n",
            "False\n"
          ]
        }
      ]
    },
    {
      "cell_type": "code",
      "source": [
        "#shift operators\n",
        "a=15\n",
        "b=-15\n",
        "print(\"a>>1=\",a>>1)\n",
        "print(\"b>>1=\",b>>1)"
      ],
      "metadata": {
        "id": "ln7yXlskYp7O",
        "outputId": "ae0848c2-4ee8-498f-a58d-b701931986fc",
        "colab": {
          "base_uri": "https://localhost:8080/"
        }
      },
      "execution_count": null,
      "outputs": [
        {
          "output_type": "stream",
          "name": "stdout",
          "text": [
            "a>>1= 7\n",
            "b>>1= -8\n"
          ]
        }
      ]
    },
    {
      "cell_type": "code",
      "source": [
        ""
      ],
      "metadata": {
        "id": "Qr69KRNxYadG"
      },
      "execution_count": null,
      "outputs": []
    }
  ]
}