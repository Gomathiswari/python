{
  "nbformat": 4,
  "nbformat_minor": 0,
  "metadata": {
    "colab": {
      "name": "Untitled4.ipynb",
      "provenance": [],
      "authorship_tag": "ABX9TyOB+aDuFMEd0SQ1yK/g81aV",
      "include_colab_link": true
    },
    "kernelspec": {
      "name": "python3",
      "display_name": "Python 3"
    },
    "language_info": {
      "name": "python"
    }
  },
  "cells": [
    {
      "cell_type": "markdown",
      "metadata": {
        "id": "view-in-github",
        "colab_type": "text"
      },
      "source": [
        "<a href=\"https://colab.research.google.com/github/Gomathiswari/python/blob/main/Untitled4.ipynb\" target=\"_parent\"><img src=\"https://colab.research.google.com/assets/colab-badge.svg\" alt=\"Open In Colab\"/></a>"
      ]
    },
    {
      "cell_type": "code",
      "execution_count": null,
      "metadata": {
        "colab": {
          "base_uri": "https://localhost:8080/"
        },
        "id": "_ejh37Vay6aM",
        "outputId": "6ed33fea-c604-4987-c10c-34705a1cebcc"
      },
      "outputs": [
        {
          "output_type": "stream",
          "name": "stdout",
          "text": [
            "a = b = False\n",
            "a = False b = False\n"
          ]
        }
      ],
      "source": [
        "a=True\n",
        "b=False\n",
        "print('a =','b =',b)\n",
        "a =False;\n",
        "print('a =',a,'b =',b)"
      ]
    },
    {
      "cell_type": "code",
      "source": [
        "dividend,divisor = eval(input('please enter two number to divide:'))\n",
        "if divisor !=0:\n",
        "  print(dividend,'/',divisor,\"=\",dividend/divisor)"
      ],
      "metadata": {
        "colab": {
          "base_uri": "https://localhost:8080/"
        },
        "id": "7Mds9i_xz1Bx",
        "outputId": "9e003f97-1df5-4ca4-b155-322cba44445f"
      },
      "execution_count": null,
      "outputs": [
        {
          "output_type": "stream",
          "name": "stdout",
          "text": [
            "please enter two number to divide:27,9\n",
            "27 / 9 = 3.0\n"
          ]
        }
      ]
    },
    {
      "cell_type": "code",
      "source": [
        "dividend,divisor=eval(input('please enter two numbers to divide: '))\n",
        "if divisor !=0:\n",
        "  quotient=dividend/divisor\n",
        "  print(dividend,'/',divisor,\"=\",quotient)\n",
        "print('program finished')"
      ],
      "metadata": {
        "colab": {
          "base_uri": "https://localhost:8080/"
        },
        "id": "eUOVjMbH0mvP",
        "outputId": "63ccd4da-ba37-45b0-abf9-36bdb0b60c16"
      },
      "execution_count": null,
      "outputs": [
        {
          "output_type": "stream",
          "name": "stdout",
          "text": [
            "please enter two numbers to divide: 8,4\n",
            "8 / 4 = 2.0\n",
            "program finished\n"
          ]
        }
      ]
    },
    {
      "cell_type": "code",
      "source": [
        "dividend,divisor = eval(input('please enter two number to divide:'))\n",
        "if divisor !=0:\n",
        "  print(dividend,'/',divisor,\"=\",dividend/divisor)\n",
        "else:\n",
        "  print('division by zero is not allowed')"
      ],
      "metadata": {
        "colab": {
          "base_uri": "https://localhost:8080/"
        },
        "id": "d05fcxTk1eKa",
        "outputId": "29166fb8-ae3c-4f85-95bf-7e7c90f3a55f"
      },
      "execution_count": null,
      "outputs": [
        {
          "output_type": "stream",
          "name": "stdout",
          "text": [
            "please enter two number to divide:10,5\n",
            "10 / 5 = 2.0\n"
          ]
        }
      ]
    },
    {
      "cell_type": "code",
      "source": [
        "value = eval(input(\"please enter an integer in the range 0...5:\"))\n",
        "if value < 0:\n",
        "    print(\"too samll\")\n",
        "else:\n",
        "    if value == 0:\n",
        "         print (\"zero\")\n",
        "    else:\n",
        "        if value == 1:\n",
        "            print (\"one\")\n",
        "        else:\n",
        "            if value == 2:\n",
        "                print (\"two\")\n",
        "            else:\n",
        "                if value == 3:\n",
        "                    print (\"three\")\n",
        "                else:\n",
        "                    if value == 4:\n",
        "                        print (\"four\")\n",
        "                    else:\n",
        "                        if value == 5:\n",
        "                            print (\"five\")\n",
        "                        else:\n",
        "                            print (\"too large\")\n",
        "print(\"done\")\n"
      ],
      "metadata": {
        "colab": {
          "base_uri": "https://localhost:8080/"
        },
        "id": "czgsx3CzVOf9",
        "outputId": "07d0b38d-ce7a-4efb-89eb-6ce40c229b37"
      },
      "execution_count": null,
      "outputs": [
        {
          "output_type": "stream",
          "name": "stdout",
          "text": [
            "please enter an integer in the range 0...5:4\n",
            "four\n",
            "done\n"
          ]
        }
      ]
    },
    {
      "cell_type": "code",
      "source": [
        "value = eval(input(\"please enter an integer in the range 0....5:\"))\n",
        "if value<0:\n",
        "    print(\"too small\")\n",
        "elif value ==  0:\n",
        "    print(\"zero\")\n",
        "elif value == 1:\n",
        "    print(\"one\")\n",
        "elif value == 2:\n",
        "    print (\"two\")\n",
        "elif value == 3:\n",
        "    print (\"three\")\n",
        "elif value == 4:\n",
        "    print (\"four\")\n",
        "elif value == 5:\n",
        "    print (\"five\")\n",
        "else: \n",
        "    print (\"too large\")\n",
        "print(\"done\")"
      ],
      "metadata": {
        "colab": {
          "base_uri": "https://localhost:8080/"
        },
        "id": "qK4RksgCZsr-",
        "outputId": "da27b7ca-1502-4feb-9328-8e7da6a6567a"
      },
      "execution_count": null,
      "outputs": [
        {
          "output_type": "stream",
          "name": "stdout",
          "text": [
            "please enter an integer in the range 0....5:4\n",
            "four\n",
            "done\n"
          ]
        }
      ]
    },
    {
      "cell_type": "code",
      "source": [
        "value = eval(input(\"please enter an integer value in the range 0...10:\"))\n",
        "if value>= 0:\n",
        "  if value <= 10:\n",
        "    print(\"in range\")\n",
        "print(\"done\")"
      ],
      "metadata": {
        "colab": {
          "base_uri": "https://localhost:8080/"
        },
        "id": "QnB-Tq0icncs",
        "outputId": "b8818a1e-a9c9-4ea3-c9e4-36cf6c7df3cc"
      },
      "execution_count": null,
      "outputs": [
        {
          "output_type": "stream",
          "name": "stdout",
          "text": [
            "please enter an integer value in the range 0...10:8\n",
            "in range\n",
            "done\n"
          ]
        }
      ]
    },
    {
      "cell_type": "code",
      "source": [
        "value = eval(input(\"please enter an integer value in the range 0....10:\"))\n",
        "if value >= 0 and value <=10:\n",
        "  print(\"in range\")\n",
        "print(\"done\")"
      ],
      "metadata": {
        "colab": {
          "base_uri": "https://localhost:8080/"
        },
        "id": "dypvwUnpdQ5a",
        "outputId": "c242cc8c-938d-4477-d6f5-0a90cde83801"
      },
      "execution_count": null,
      "outputs": [
        {
          "output_type": "stream",
          "name": "stdout",
          "text": [
            "please enter an integer value in the range 0....10:5\n",
            "in range\n",
            "done\n"
          ]
        }
      ]
    },
    {
      "cell_type": "code",
      "source": [
        "value = eval (input(\"please enter an integer value in the range 0....10\"))\n",
        "if value >=0:\n",
        "    if value <=10:\n",
        "        print(value ,\"is in range\")\n",
        "    else:\n",
        "        print(value,\"is too large \")\n",
        "else:\n",
        "  print(value,\"is too small\")\n",
        "print(\"done\")"
      ],
      "metadata": {
        "colab": {
          "base_uri": "https://localhost:8080/"
        },
        "id": "kOC82-zVd8ug",
        "outputId": "2155b593-4d38-49af-c6f4-9856caecf56c"
      },
      "execution_count": null,
      "outputs": [
        {
          "output_type": "stream",
          "name": "stdout",
          "text": [
            "please enter an integer value in the range 0....108\n",
            "8 is in range\n",
            "done\n"
          ]
        }
      ]
    },
    {
      "cell_type": "code",
      "source": [
        "dividend,divisor=eval(input('enter dividend,divisor'))\n",
        "if  divisor != 0:\n",
        "  print(dividend/divisor)\n",
        "else:\n",
        "  print('error,cannot divide by zero')"
      ],
      "metadata": {
        "colab": {
          "base_uri": "https://localhost:8080/"
        },
        "id": "bBXdEndjfX6T",
        "outputId": "afce9270-68c4-4f68-8eb6-dc8fcf6be89c"
      },
      "execution_count": null,
      "outputs": [
        {
          "output_type": "stream",
          "name": "stdout",
          "text": [
            "enter dividend,divisor10,5\n",
            "2.0\n"
          ]
        }
      ]
    },
    {
      "cell_type": "code",
      "source": [
        "dividend,divisor=eval(input('enter dividend,divisor:'))\n",
        "if divisor != 0:\n",
        "   print(dividend/divisor)\n",
        "else:\n",
        "  print('error,cannot divide by zero')"
      ],
      "metadata": {
        "colab": {
          "base_uri": "https://localhost:8080/"
        },
        "id": "5a74oe2-gKaR",
        "outputId": "c921d882-8aa9-40cc-91b1-754d3ccc510b"
      },
      "execution_count": null,
      "outputs": [
        {
          "output_type": "stream",
          "name": "stdout",
          "text": [
            "enter dividend,divisor:20,5\n",
            "4.0\n"
          ]
        }
      ]
    },
    {
      "cell_type": "code",
      "source": [
        "dividend,divisor=eval(input('enter dividend,divisor:'))\n",
        "msg = dividend/divisor if divisor != 0 else 'error,cannot divide by zero'\n",
        "print(msg)"
      ],
      "metadata": {
        "colab": {
          "base_uri": "https://localhost:8080/"
        },
        "id": "x3OcqwiThfb6",
        "outputId": "bb3e0b23-c755-4226-d1c5-caf77258afa3"
      },
      "execution_count": null,
      "outputs": [
        {
          "output_type": "stream",
          "name": "stdout",
          "text": [
            "enter dividend,divisor:25,5\n",
            "5.0\n"
          ]
        }
      ]
    },
    {
      "cell_type": "code",
      "source": [
        "count = 1\n",
        "while count <="
      ],
      "metadata": {
        "id": "y9TQkoWNiJy-"
      },
      "execution_count": null,
      "outputs": []
    }
  ]
}