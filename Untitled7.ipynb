{
  "nbformat": 4,
  "nbformat_minor": 0,
  "metadata": {
    "colab": {
      "name": "Untitled7.ipynb",
      "provenance": [],
      "authorship_tag": "ABX9TyO/qSin8U06P6yXblZGz6vB",
      "include_colab_link": true
    },
    "kernelspec": {
      "name": "python3",
      "display_name": "Python 3"
    },
    "language_info": {
      "name": "python"
    }
  },
  "cells": [
    {
      "cell_type": "markdown",
      "metadata": {
        "id": "view-in-github",
        "colab_type": "text"
      },
      "source": [
        "<a href=\"https://colab.research.google.com/github/Gomathiswari/python/blob/main/Untitled7.ipynb\" target=\"_parent\"><img src=\"https://colab.research.google.com/assets/colab-badge.svg\" alt=\"Open In Colab\"/></a>"
      ]
    },
    {
      "cell_type": "code",
      "execution_count": null,
      "metadata": {
        "colab": {
          "base_uri": "https://localhost:8080/"
        },
        "id": "el2qwD1Pfmbx",
        "outputId": "b8c7029a-12b5-41ba-d607-094bc5dd5d9e"
      },
      "outputs": [
        {
          "output_type": "stream",
          "name": "stdout",
          "text": [
            "Before modification: Adam\n",
            "After modification: John\n"
          ]
        }
      ],
      "source": [
        "class Person:\n",
        "    name = 'Adam'\n",
        "    \n",
        "p = Person()\n",
        "print('Before modification:', p.name)\n",
        "\n",
        "# setting name to 'John'\n",
        "setattr(p, 'name', 'John')\n",
        "\n",
        "print('After modification:', p.name)"
      ]
    },
    {
      "cell_type": "code",
      "source": [
        "class Person:\n",
        "    name = 'Adam'\n",
        "    \n",
        "p = Person()\n",
        "\n",
        "# setting attribute name to John\n",
        "setattr(p, 'name', 'John')\n",
        "print('Name is:', p.name)\n",
        "\n",
        "# setting an attribute not present in Person\n",
        "setattr(p, 'age', 23)\n",
        "print('Age is:', p.age)"
      ],
      "metadata": {
        "colab": {
          "base_uri": "https://localhost:8080/"
        },
        "id": "lQ4soQfzqRdo",
        "outputId": "bc5def38-2b9c-438f-e1dd-55cda5c43cd5"
      },
      "execution_count": null,
      "outputs": [
        {
          "output_type": "stream",
          "name": "stdout",
          "text": [
            "Name is: John\n",
            "Age is: 23\n"
          ]
        }
      ]
    },
    {
      "cell_type": "code",
      "source": [
        "class Student:\n",
        "  marks = 88\n",
        "  name = 'Sheeran'\n",
        "\n",
        "person = Student()\n",
        "\n",
        "# set value of name to Adam\n",
        "setattr(person, 'name', 'Adam')\n",
        "print(person.name)\n",
        "\n",
        "# set value of marks to 78\n",
        "setattr(person, 'marks', 78)\n",
        "print(person.marks)\n"
      ],
      "metadata": {
        "id": "_NLXIQoKqVMf",
        "colab": {
          "base_uri": "https://localhost:8080/"
        },
        "outputId": "c245b3d5-a476-4ea2-c8f1-c4b13708122b"
      },
      "execution_count": 58,
      "outputs": [
        {
          "output_type": "stream",
          "name": "stdout",
          "text": [
            "Adam\n",
            "78\n"
          ]
        }
      ]
    },
    {
      "cell_type": "code",
      "source": [
        "prime_numbers = [2, 3, 5, 7]\n",
        "\n",
        "# check type of prime_numbers\n",
        "result = type(prime_numbers)\n",
        "print(result)\n"
      ],
      "metadata": {
        "colab": {
          "base_uri": "https://localhost:8080/"
        },
        "id": "4dDwj3fVrqRm",
        "outputId": "9711f8d4-832e-4a5b-d213-83d8578dac37"
      },
      "execution_count": 59,
      "outputs": [
        {
          "output_type": "stream",
          "name": "stdout",
          "text": [
            "<class 'list'>\n"
          ]
        }
      ]
    },
    {
      "cell_type": "code",
      "source": [
        "numbers_list = [1, 2]\n",
        "print(type(numbers_list))\n",
        "\n",
        "numbers_dict = {1: 'one', 2: 'two'}\n",
        "print(type(numbers_dict))\n",
        "\n",
        "class Foo:\n",
        "    a = 0\n",
        "\n",
        "foo = Foo()\n",
        "print(type(foo))"
      ],
      "metadata": {
        "colab": {
          "base_uri": "https://localhost:8080/"
        },
        "id": "3wLmqqpkrwWw",
        "outputId": "d6ce6382-e13d-4957-8f09-075b8ab8c51e"
      },
      "execution_count": 60,
      "outputs": [
        {
          "output_type": "stream",
          "name": "stdout",
          "text": [
            "<class 'list'>\n",
            "<class 'dict'>\n",
            "<class '__main__.Foo'>\n"
          ]
        }
      ]
    },
    {
      "cell_type": "code",
      "source": [
        "o1 = type('X', (object,), dict(a='Foo', b=12))\n",
        "print(type(o1))\n",
        "\n",
        "print(vars(o1))\n",
        "\n",
        "class test:\n",
        "  a = 'Foo'\n",
        "  b = 12\n",
        "  \n",
        "o2 = type('Y', (test,), dict(a='Foo', b=12))\n",
        "print(type(o2))\n",
        "print(vars(o2))"
      ],
      "metadata": {
        "colab": {
          "base_uri": "https://localhost:8080/"
        },
        "id": "Fun9h6jmrvgD",
        "outputId": "742c04f6-fdb0-4698-cf5b-ff2e3b91ba09"
      },
      "execution_count": 61,
      "outputs": [
        {
          "output_type": "stream",
          "name": "stdout",
          "text": [
            "<class 'type'>\n",
            "{'a': 'Foo', 'b': 12, '__module__': '__main__', '__dict__': <attribute '__dict__' of 'X' objects>, '__weakref__': <attribute '__weakref__' of 'X' objects>, '__doc__': None}\n",
            "<class 'type'>\n",
            "{'a': 'Foo', 'b': 12, '__module__': '__main__', '__doc__': None}\n"
          ]
        }
      ]
    },
    {
      "cell_type": "code",
      "source": [
        "t1 = tuple()\n",
        "print('t1 =', t1)\n",
        "\n",
        "# creating a tuple from a list\n",
        "t2 = tuple([1, 4, 6])\n",
        "print('t2 =', t2)\n",
        "\n",
        "# creating a tuple from a string\n",
        "t1 = tuple('Python')\n",
        "print('t1 =',t1)\n",
        "\n",
        "# creating a tuple from a dictionary\n",
        "t1 = tuple({1: 'one', 2: 'two'})\n",
        "print('t1 =',t1)"
      ],
      "metadata": {
        "colab": {
          "base_uri": "https://localhost:8080/"
        },
        "id": "a2tjEkpIsLzu",
        "outputId": "987b85c4-6fab-4450-d637-6d9d51033049"
      },
      "execution_count": 62,
      "outputs": [
        {
          "output_type": "stream",
          "name": "stdout",
          "text": [
            "t1 = ()\n",
            "t2 = (1, 4, 6)\n",
            "t1 = ('P', 'y', 't', 'h', 'o', 'n')\n",
            "t1 = (1, 2)\n"
          ]
        }
      ]
    },
    {
      "cell_type": "code",
      "source": [
        "def greet(*names):\n",
        "    \"\"\"This function greets all\n",
        "    the person in the names tuple.\"\"\"\n",
        "\n",
        "    # names is a tuple with arguments\n",
        "    for name in names:\n",
        "        print(\"Hello\", name)\n",
        "\n",
        "\n",
        "greet(\"Monica\", \"Luke\", \"Steve\", \"John\")"
      ],
      "metadata": {
        "colab": {
          "base_uri": "https://localhost:8080/"
        },
        "id": "lRPnbTtQtWjt",
        "outputId": "5ea3e28f-f16c-494c-8a9d-b802ad03825f"
      },
      "execution_count": 63,
      "outputs": [
        {
          "output_type": "stream",
          "name": "stdout",
          "text": [
            "Hello Monica\n",
            "Hello Luke\n",
            "Hello Steve\n",
            "Hello John\n"
          ]
        }
      ]
    }
  ]
}